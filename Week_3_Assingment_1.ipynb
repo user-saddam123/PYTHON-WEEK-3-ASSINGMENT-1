{
 "cells": [
  {
   "cell_type": "markdown",
   "id": "96d91ef6-5f8e-40ae-9f2e-7ab47be1ce79",
   "metadata": {},
   "source": [
    "Assingment \n",
    "            solution \n",
    "                        by- saddam ansari\n",
    "                                        for pw slills acedmy"
   ]
  },
  {
   "cell_type": "markdown",
   "id": "09c478f2-e69b-482a-a244-a635d148a4ed",
   "metadata": {},
   "source": [
    "Q1. Which keyword is used to create a function? Create a function to return a list of odd numbers in the\n",
    "range of 1 to 25."
   ]
  },
  {
   "cell_type": "markdown",
   "id": "5d6d6a04-78e4-4e15-b496-ca5041e9f47c",
   "metadata": {},
   "source": [
    "def keyword is used to creat a function."
   ]
  },
  {
   "cell_type": "code",
   "execution_count": 9,
   "id": "adb90fa0-24b0-4ef3-9c4e-5b94bef65157",
   "metadata": {},
   "outputs": [],
   "source": [
    "def odd_num ():\n",
    "    odd_=[]\n",
    "    for numbers in range (0,25):\n",
    "        if numbers % 2 != 0:\n",
    "            odd_.append(numbers)\n",
    "    return odd_"
   ]
  },
  {
   "cell_type": "code",
   "execution_count": 10,
   "id": "47be28fe-258f-4e9c-aa3d-7b3a62ca8aa5",
   "metadata": {},
   "outputs": [
    {
     "data": {
      "text/plain": [
       "[1, 3, 5, 7, 9, 11, 13, 15, 17, 19, 21, 23]"
      ]
     },
     "execution_count": 10,
     "metadata": {},
     "output_type": "execute_result"
    }
   ],
   "source": [
    "odd_num()"
   ]
  },
  {
   "cell_type": "markdown",
   "id": "552923e9-71a8-4768-906f-4ed6712f0774",
   "metadata": {},
   "source": [
    "Q2. Why *args and **kwargs is used in some functions? Create a function each for *args and **kwargs\n",
    "to demonstrate their use."
   ]
  },
  {
   "cell_type": "code",
   "execution_count": 13,
   "id": "7736a203-6349-4936-87e5-1db3f1cae72d",
   "metadata": {},
   "outputs": [],
   "source": [
    "def test(*args):\n",
    "    return args"
   ]
  },
  {
   "cell_type": "code",
   "execution_count": 14,
   "id": "599af6f2-aadb-4a49-bf6a-f6df6305ab3c",
   "metadata": {},
   "outputs": [
    {
     "data": {
      "text/plain": [
       "(1, 2, 3, 4, 5, 6, 7, 8, 9, 0)"
      ]
     },
     "execution_count": 14,
     "metadata": {},
     "output_type": "execute_result"
    }
   ],
   "source": [
    "test(1,2,3,4,5,6,7,8,9,0)"
   ]
  },
  {
   "cell_type": "code",
   "execution_count": 15,
   "id": "b382942c-c0a4-4cd3-845f-b087ef312028",
   "metadata": {},
   "outputs": [],
   "source": [
    "def test1(**kwargs):\n",
    "    return kwargs"
   ]
  },
  {
   "cell_type": "code",
   "execution_count": 21,
   "id": "c9c26856-a720-4a86-b3ac-7e9523c27e7b",
   "metadata": {},
   "outputs": [
    {
     "data": {
      "text/plain": [
       "{'a': ['saddam', 'ansari', [1, 2, 3]], 'b': [['saddam', 'data', 'analyst']]}"
      ]
     },
     "execution_count": 21,
     "metadata": {},
     "output_type": "execute_result"
    }
   ],
   "source": [
    "test1(a=['saddam','ansari',[1,2,3]],b=[['saddam','data','analyst']])"
   ]
  },
  {
   "cell_type": "markdown",
   "id": "515167fe-a40b-4141-bd0f-0ed960a8ffe2",
   "metadata": {},
   "source": [
    "Q3. What is an iterator in python? Name the method used to initialise the iterator object and the method\n",
    "used for iteration. Use these methods to print the first five elements of the given list [2, 4, 6, 8, 10, 12, 14,\n",
    "16, 18, 20].\n"
   ]
  },
  {
   "cell_type": "code",
   "execution_count": 22,
   "id": "e43ccad9-b1c6-43a2-ac1b-a331c15b502c",
   "metadata": {},
   "outputs": [],
   "source": [
    "l=[1,2,3,4,5,6,7,8,9,10]\n",
    "itr=iter(l)"
   ]
  },
  {
   "cell_type": "code",
   "execution_count": 23,
   "id": "4fdb826c-1cc3-438c-aace-9c8508f1fedb",
   "metadata": {},
   "outputs": [
    {
     "name": "stdout",
     "output_type": "stream",
     "text": [
      "1\n",
      "2\n",
      "3\n",
      "4\n",
      "5\n"
     ]
    }
   ],
   "source": [
    "for i in range(5):\n",
    "    n=next(itr)\n",
    "    print(n)"
   ]
  },
  {
   "cell_type": "markdown",
   "id": "d50e0726-f4f1-444f-8974-2d0bf05d21fc",
   "metadata": {},
   "source": [
    "Q4. What is a generator function in python? Why yield keyword is used? Give an example of a generator\n",
    "function."
   ]
  },
  {
   "cell_type": "code",
   "execution_count": 24,
   "id": "dd448e04-0796-4612-b19e-290d23f6bc8c",
   "metadata": {},
   "outputs": [],
   "source": [
    "#The yield keyword is used in a generator function to define points at which the function should yield a value\n"
   ]
  },
  {
   "cell_type": "code",
   "execution_count": 28,
   "id": "11e3d94f-049f-489a-b197-b4590ff26268",
   "metadata": {},
   "outputs": [],
   "source": [
    "def test_dif(n):\n",
    "    a,b=0,2\n",
    "    for i in range(n):\n",
    "        yield a\n",
    "        a,b= b,a+b"
   ]
  },
  {
   "cell_type": "code",
   "execution_count": 29,
   "id": "75ad8e95-9da7-4b2e-93e5-601be1447187",
   "metadata": {},
   "outputs": [
    {
     "name": "stdout",
     "output_type": "stream",
     "text": [
      "0\n",
      "2\n",
      "2\n",
      "4\n",
      "6\n",
      "10\n",
      "16\n",
      "26\n",
      "42\n",
      "68\n"
     ]
    }
   ],
   "source": [
    "for i in test_dif(10):\n",
    "    print(i)"
   ]
  },
  {
   "cell_type": "markdown",
   "id": "cd72a88e-4fa3-4b00-b253-6b3275174dd8",
   "metadata": {},
   "source": [
    "Q5. Create a generator function for prime numbers less than 1000. Use the next() method to print the\n",
    "first 20 prime numbers.\n"
   ]
  },
  {
   "cell_type": "code",
   "execution_count": 30,
   "id": "aef48f9e-1fd7-4c08-98de-c2b73945bdb9",
   "metadata": {},
   "outputs": [
    {
     "name": "stdout",
     "output_type": "stream",
     "text": [
      "2\n",
      "3\n",
      "5\n",
      "7\n",
      "11\n",
      "13\n",
      "17\n",
      "19\n",
      "23\n",
      "29\n",
      "31\n",
      "37\n",
      "41\n",
      "43\n",
      "47\n",
      "53\n",
      "59\n",
      "61\n",
      "67\n",
      "71\n"
     ]
    }
   ],
   "source": [
    "def is_prime(n):\n",
    "    if n < 2:\n",
    "        return False\n",
    "    for i in range(2, int(n ** 0.5) + 1):\n",
    "        if n % i == 0:\n",
    "            return False\n",
    "    return True\n",
    "\n",
    "def prime_generator():\n",
    "    num = 2\n",
    "    while True:\n",
    "        if is_prime(num):\n",
    "            yield num\n",
    "        num += 1\n",
    "\n",
    "# Create the prime number generator\n",
    "prime_gen = prime_generator()\n",
    "\n",
    "# Print the first 20 prime numbers using the next() method\n",
    "for _ in range(20):\n",
    "    prime = next(prime_gen)\n",
    "    print(prime)\n"
   ]
  },
  {
   "cell_type": "markdown",
   "id": "e4a96f8d-6357-4d1d-80e2-56c58efe1f15",
   "metadata": {},
   "source": [
    "Q6. Write a python program to print the first 10 Fibonacci numbers using a while loop."
   ]
  },
  {
   "cell_type": "code",
   "execution_count": 35,
   "id": "1647b919-d94a-41cb-93f6-d54bd29eadf6",
   "metadata": {},
   "outputs": [
    {
     "name": "stdout",
     "output_type": "stream",
     "text": [
      "0\n",
      "1\n",
      "1\n",
      "2\n",
      "3\n",
      "5\n",
      "8\n",
      "13\n",
      "21\n",
      "34\n"
     ]
    }
   ],
   "source": [
    "a,b = 0,1\n",
    "num=0\n",
    "\n",
    "while num<10:\n",
    "    print(a)\n",
    "    a,b=b,a+b\n",
    "    num = num+1"
   ]
  },
  {
   "cell_type": "markdown",
   "id": "5c8f49dc-e751-435a-9b50-c4cf1cbdcf8d",
   "metadata": {},
   "source": [
    "Q7. Write a List Comprehension to iterate through the given string: ‘pwskills’.\n",
    "Expected output: ['p', 'w', 's', 'k', 'i', 'l', 'l', 's']"
   ]
  },
  {
   "cell_type": "code",
   "execution_count": 36,
   "id": "632522d4-2258-4bd5-bf54-c64d55d1115f",
   "metadata": {},
   "outputs": [],
   "source": [
    "ww= 'pwskills'\n",
    "aa=list(ww)"
   ]
  },
  {
   "cell_type": "code",
   "execution_count": 37,
   "id": "b3bb35c4-73da-4d68-87d8-187c87297d11",
   "metadata": {},
   "outputs": [
    {
     "data": {
      "text/plain": [
       "['p', 'w', 's', 'k', 'i', 'l', 'l', 's']"
      ]
     },
     "execution_count": 37,
     "metadata": {},
     "output_type": "execute_result"
    }
   ],
   "source": [
    "aa"
   ]
  },
  {
   "cell_type": "markdown",
   "id": "00c835d5-9c25-4dad-b8b6-503d2b81e2b8",
   "metadata": {},
   "source": [
    "Q8. Write a python program to check whether a given number is Palindrome or not using a while loop."
   ]
  },
  {
   "cell_type": "code",
   "execution_count": 42,
   "id": "d66e9194-2aaa-420e-9292-982da46b8193",
   "metadata": {},
   "outputs": [
    {
     "name": "stdin",
     "output_type": "stream",
     "text": [
      "enetr your num 14\n"
     ]
    },
    {
     "name": "stdout",
     "output_type": "stream",
     "text": [
      "14 is not palindrome\n"
     ]
    }
   ],
   "source": [
    "num1=int(input('enetr your num'))\n",
    "num2=str(num)\n",
    "\n",
    "if num2==num2[::-1]:\n",
    "    print(num1,'is a palindrome')\n",
    "else:\n",
    "    print(num1,'is not palindrome')"
   ]
  },
  {
   "cell_type": "markdown",
   "id": "fc73c1e1-5ced-469f-aa1f-f52df36abf71",
   "metadata": {},
   "source": [
    "Q9. Write a code to print odd numbers from 1 to 100 using list comprehension."
   ]
  },
  {
   "cell_type": "code",
   "execution_count": 43,
   "id": "ffd50c25-ec28-478d-afb9-25f40ce770ad",
   "metadata": {},
   "outputs": [
    {
     "ename": "NameError",
     "evalue": "name 'odd' is not defined",
     "output_type": "error",
     "traceback": [
      "\u001b[0;31m---------------------------------------------------------------------------\u001b[0m",
      "\u001b[0;31mNameError\u001b[0m                                 Traceback (most recent call last)",
      "Cell \u001b[0;32mIn[43], line 1\u001b[0m\n\u001b[0;32m----> 1\u001b[0m \u001b[43modd\u001b[49m\n",
      "\u001b[0;31mNameError\u001b[0m: name 'odd' is not defined"
     ]
    }
   ],
   "source": [
    "odd=[]\n",
    "for num i range(1,100):\n",
    "    if num % 2 !=0:\n",
    "        "
   ]
  },
  {
   "cell_type": "code",
   "execution_count": null,
   "id": "6a49bc4b-d557-4dd8-8ed0-c3fdcc3efe25",
   "metadata": {},
   "outputs": [],
   "source": []
  }
 ],
 "metadata": {
  "kernelspec": {
   "display_name": "Python 3 (ipykernel)",
   "language": "python",
   "name": "python3"
  },
  "language_info": {
   "codemirror_mode": {
    "name": "ipython",
    "version": 3
   },
   "file_extension": ".py",
   "mimetype": "text/x-python",
   "name": "python",
   "nbconvert_exporter": "python",
   "pygments_lexer": "ipython3",
   "version": "3.10.8"
  }
 },
 "nbformat": 4,
 "nbformat_minor": 5
}
